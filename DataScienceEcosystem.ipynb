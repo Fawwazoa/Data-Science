{
  "nbformat": 4,
  "nbformat_minor": 0,
  "metadata": {
    "colab": {
      "provenance": [],
      "authorship_tag": "ABX9TyNnpgkFOxXb/O0ZXJto/mTF",
      "include_colab_link": true
    },
    "kernelspec": {
      "name": "python3",
      "display_name": "Python 3"
    },
    "language_info": {
      "name": "python"
    }
  },
  "cells": [
    {
      "cell_type": "markdown",
      "metadata": {
        "id": "view-in-github",
        "colab_type": "text"
      },
      "source": [
        "<a href=\"https://colab.research.google.com/github/Fawwazoa/Data-Science/blob/main/DataScienceEcosystem.ipynb\" target=\"_parent\"><img src=\"https://colab.research.google.com/assets/colab-badge.svg\" alt=\"Open In Colab\"/></a>"
      ]
    },
    {
      "cell_type": "markdown",
      "source": [
        "# Data Science Tools and Ecosystem\n"
      ],
      "metadata": {
        "id": "Lyf_B7sS_xwy"
      }
    },
    {
      "cell_type": "markdown",
      "source": [
        "In this notebook, Data Science Tools and Ecosystem are summarized.\n"
      ],
      "metadata": {
        "id": "UAXHLqMu_20o"
      }
    },
    {
      "cell_type": "markdown",
      "source": [
        "### Some of the popular languages that Data Scientists use are:\n",
        "\n",
        "1. Python\n",
        "2. R\n",
        "3. SQL"
      ],
      "metadata": {
        "id": "K2mDVF9j_8La"
      }
    },
    {
      "cell_type": "markdown",
      "source": [
        "### This table contain some Data Science tools\n",
        "\n",
        "|Data Science Tools|\n",
        "|------------------|\n",
        "|RStudio|\n",
        "|Apache Spark|\n",
        "|Jupyter Notebook|\n"
      ],
      "metadata": {
        "id": "sX-DFnMr_-b7"
      }
    },
    {
      "cell_type": "markdown",
      "source": [
        "### Below are a few examples of evaluating arithmetic expressions in Python\n",
        "\n",
        "\n"
      ],
      "metadata": {
        "id": "0z-eyMLTABQn"
      }
    },
    {
      "cell_type": "code",
      "source": [
        "\n",
        " #This a simple arithmetic expression to mutiply then add integers\n",
        "(3*4)+5"
      ],
      "metadata": {
        "colab": {
          "base_uri": "https://localhost:8080/"
        },
        "id": "F-lkjnwHAGk3",
        "outputId": "4cb9f553-4067-42b4-c942-1fec48ab038f"
      },
      "execution_count": 3,
      "outputs": [
        {
          "output_type": "execute_result",
          "data": {
            "text/plain": [
              "17"
            ]
          },
          "metadata": {},
          "execution_count": 3
        }
      ]
    },
    {
      "cell_type": "code",
      "source": [
        "#This will convert 200 minutes to hours by diving by 60\n",
        "\n",
        "200/60"
      ],
      "metadata": {
        "colab": {
          "base_uri": "https://localhost:8080/"
        },
        "id": "surCqwIdAo-I",
        "outputId": "7487cd64-dd82-4c4d-b1cc-4f64a8f8c858"
      },
      "execution_count": 4,
      "outputs": [
        {
          "output_type": "execute_result",
          "data": {
            "text/plain": [
              "3.3333333333333335"
            ]
          },
          "metadata": {},
          "execution_count": 4
        }
      ]
    },
    {
      "cell_type": "markdown",
      "source": [
        "**Objectives:**\n",
        "- Some of the popular languages that Data Scientists use\n",
        "- Table contain some Data Science tools\n",
        "- Examples of evaluating arithmetic expressions in Python"
      ],
      "metadata": {
        "id": "UqudsQTyEZwB"
      }
    },
    {
      "cell_type": "markdown",
      "source": [
        "## Author :\n",
        "Fawaz Yousif (@fawwazoa)"
      ],
      "metadata": {
        "id": "KrFVAjiwFx5H"
      }
    }
  ]
}